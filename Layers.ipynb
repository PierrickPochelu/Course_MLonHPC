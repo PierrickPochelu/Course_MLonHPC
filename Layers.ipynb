{
 "cells": [
  {
   "cell_type": "markdown",
   "id": "3b177d44",
   "metadata": {},
   "source": [
    "# Common Neural Network layers"
   ]
  },
  {
   "cell_type": "markdown",
   "id": "31a446fa",
   "metadata": {},
   "source": [
    "Author: Dr. Pierrick Pochelu\n",
    "\n",
    "Presenters: Dr. Oscar Castro, Dr. Pierrick Pochelu\n",
    "\n",
    "Neural Network applications are expanding with their capability to manage diverse data (not only vector)\n",
    "\n",
    "Below are the most common deep learning algorithms.\n",
    "\n",
    "Convolutional Neural Networks (CNNs)\n",
    "* Core algorithm: **Convolution layer**\n",
    "* Input Type: Spatial data. E.g., 1D signal such as sound, white&black image, colored image.\n",
    "* How It Works: CNNs leverage convolution layers to capture spatial hierarchies, using filters (kernels) to detect features like edges, textures, colors, and shapes in images.\n",
    "* Application examples: Image recognition, object detection, facial recognition, etc.\n",
    "\n",
    "\n",
    "Graph Neural Networks (GNNs)\n",
    "* Core algorithm: **Graph Convolution layer**\n",
    "* Input Type: Graph-structured data, such as molecular graphs (atoms as nodes, bonds as edges), social networks (people as nodes, relationships as edges), or citation networks between documents, or URL between web pages.\n",
    "* How It Works: GNNs learn node and edge features by iteratively aggregating and updating information from neighboring nodes and their connections (edges). Each node's representation is computed by aggregating features from its neighbors, capturing both local and global structural patterns. This allows GNNs to capture the relationships and dependencies between entities in non-Euclidean spaces.\n",
    "* Application examples: Molecular property prediction (e.g., drug discovery), social network analysis, traffic prediction, knowledge graph completion, and protein structure prediction.\n",
    "\n",
    "\n",
    "Auto-Regressive Neural Networks (Example: WaveNet)\n",
    "* Core algorithm: **Auto-regression** (AR)\n",
    "* Input Type: Sequential data, typically time-series data (e.g., stock prices, weather data, language).\n",
    "* How It Works: ARNNs predict future values in a sequence based on a linear combination of prior observed values. The model generates outputs step-by-step, using its own previous predictions as inputs for the next time step. In neural networks, this is often implemented with architectures like RNNs, LSTMs, or Transformers, where the current output depends on previous outputs.\n",
    "* Application examples: Speech synthesis (text-to-speech), and autoregressive image models (pixel-level image generation).\n",
    "\n",
    "Recurrent Neural Network (E.g., Long Short-Term Memory Networks)\n",
    "* Core algorithm: **Recurrent layers with memory cells**\n",
    "* Input Type: Sequential data, e.g., time-series data (financial data, stock prices), language, and speech data.\n",
    "* How It Works: LSTMs maintain a memory of past inputs through a system of gates (input, forget, output) that control the flow of information. This allows them to capture long-term dependencies in sequences without losing important context over time.\n",
    "* Application examples: Time-series forecasting, stock prediction, machine translation, speech recognition, and video analysis.\n",
    "\n",
    "Q-Learning / Reinforcement Learning\n",
    "* Core algorithm: Off-policy temporal difference (TD) learning\n",
    "* Input Type: Interaction data from an environment, typically represented as state-action pairs (S, A), where the agent takes actions in states and receives rewards.\n",
    "* How It Works: Q-Learning is a reinforcement learning algorithm that seeks to learn the optimal action-selection policy by estimating the Q-values (expected cumulative reward) for each action in each state. The agent updates its Q-values using the Bellman equation based on the reward received from the environment and the maximum future Q-value for the next state. Over time, the agent learns to choose the action that maximizes the cumulative reward, forming an optimal policy.\n",
    "* Application examples: Robotics control, autonomous navigation, resource management in complex environments, chess.\n",
    "\n",
    "\n",
    "\n",
    "\n",
    "Physics-Informed Neural Networks (PINNs)\n",
    "* Core idea: Integration of physical laws (Partial Differential Equations, PDEs) into neural network training\n",
    "* Input Type: Data governed by physical phenomena, often represented through differential equations. Examples include systems like fluid dynamics, structural mechanics, and heat transfer.\n",
    "* How It Works: PINNs incorporate known physical laws, expressed as PDEs, directly into the loss function of the neural network. During training, the network not only fits observed data but also minimizes a term representing the residual of the governing equations (e.g., Navier-Stokes for fluid flow). This enables PINNs to make physically consistent predictions, even with sparse or noisy data, by embedding these constraints into the model.\n",
    "* Application examples: Simulating fluid flows, solving inverse problems in engineering, weather prediction, modeling heat transfer, and structural mechanics simulations.\n",
    "\n",
    "\n",
    "\n",
    "Illustration of common neural networks:\n",
    "<img src=\"C.png\" alt=\"LSTM block\" width=\"75%\"/>\n",
    "\n",
    "Concept of Tensors: Tensors are mathematical objects that generalize scalars, vectors (1D), and matrices (2D) to higher dimensions. \n",
    "\n",
    "Graph Representation: Neural networks can be visualized as directed graphs:\n",
    "* Nodes represent tensor operations (e.g., multiplication, addition).\n",
    "* Edges represent the flow of information (data) between these operations.\n",
    "\n",
    "\n",
    "\n",
    "Topology of Neural Networks: The specific structure or topology is designed to balance various considerations:\n",
    "* Prediction Quality: Aim to minimize overfitting (model too complex) and underfitting (model too simple).\n",
    "* Training/Inference Time: Efficiency in both training the model and making predictions.\n",
    "* Memory Consumption: Ensuring the model fits within computational limits.\n",
    "* Simplicity: Keeping the architecture as simple as possible while achieving good performance.\n",
    "\n",
    "Neural network layers can be viewed as sub-graphs within the overall neural network structure, each designed to perform specific functions. Here are the examples you provided:\n",
    "\n",
    "\n",
    "\n",
    "For example LSTM layer:\n",
    "<img src=\"LSTM.png\" alt=\"LSTM block\" width=\"50%\"/>\n",
    "\n",
    "\n",
    "For example Multi-Head attention layer:\n",
    "<img src=\"Attention.png\" alt=\"Multi Head Attention block\" width=\"50%\"/>\n",
    "\n",
    "For example Mixture-of-Expert layer:\n",
    "<img src=\"MOE.png\" alt=\"MOE block\" width=\"50%\"/>"
   ]
  },
  {
   "cell_type": "markdown",
   "id": "70d4de61",
   "metadata": {},
   "source": [
    "# Convolution"
   ]
  },
  {
   "cell_type": "markdown",
   "id": "c89e8f13",
   "metadata": {},
   "source": [
    "A convolution is a mathematical operation that takes an input data (such as an image or signal) and a kernel (a small matrix). It produces an output that captures the interaction between the two. It highlights features or patterns in the input data."
   ]
  },
  {
   "cell_type": "markdown",
   "id": "689513d7",
   "metadata": {},
   "source": [
    "## 1D Convolution"
   ]
  },
  {
   "cell_type": "markdown",
   "id": "e6d7b247",
   "metadata": {},
   "source": [
    "Illustration:\n",
    "![Example Image](conv.png)"
   ]
  },
  {
   "cell_type": "code",
   "execution_count": 1,
   "id": "3e6ea419",
   "metadata": {},
   "outputs": [
    {
     "name": "stderr",
     "output_type": "stream",
     "text": [
      "UsageError: Cell magic `%%load_ext` not found (But line magic `%load_ext` exists, did you mean that instead?).\n"
     ]
    }
   ],
   "source": [
    "%%load_ext memory_profiler # usefull for profiling mem. consumption"
   ]
  },
  {
   "cell_type": "markdown",
   "id": "a2c35899",
   "metadata": {},
   "source": [
    "Forward:"
   ]
  },
  {
   "cell_type": "code",
   "execution_count": 2,
   "id": "e42a36fb",
   "metadata": {},
   "outputs": [],
   "source": [
    "import numpy as np"
   ]
  },
  {
   "cell_type": "code",
   "execution_count": 3,
   "id": "5e6e36c8",
   "metadata": {},
   "outputs": [],
   "source": [
    "x=[2.0, 2.1, 2.2, 2.3, 7.6, 7.5, 7.4, 7.3] # input signal\n",
    "k=[-1., 0, 1.] # kernel"
   ]
  },
  {
   "cell_type": "code",
   "execution_count": 4,
   "id": "09a6068d",
   "metadata": {},
   "outputs": [],
   "source": [
    "def convolution(x, kernel):\n",
    "    Y = []\n",
    "    kernel_half=len(kernel)//2\n",
    "    for i in range(len(x)): # O(N)\n",
    "        if i>=kernel_half and i<len(x)-kernel_half : #<--- skip computation when out of the boundaries\n",
    "            window = x[i-kernel_half : i+ kernel_half + 1] # when Python slicing e.g. x[a:b] a is inclusive and b exclusive\n",
    "            y_i = np.dot(window, kernel) # dot product O(K)\n",
    "            #y_i = round(y_i, 6)\n",
    "            Y.append(y_i)\n",
    "    return Y"
   ]
  },
  {
   "cell_type": "code",
   "execution_count": 5,
   "id": "91fc102b",
   "metadata": {},
   "outputs": [
    {
     "name": "stdout",
     "output_type": "stream",
     "text": [
      "[0.20000000000000018, 0.19999999999999973, 5.3999999999999995, 5.2, -0.1999999999999993, -0.20000000000000018]\n"
     ]
    }
   ],
   "source": [
    "print(convolution(x,k))  \n",
    "# O((N-K//2)*K)\n",
    "\n",
    "# K is small and constant\n",
    "\n",
    "# O(n)"
   ]
  },
  {
   "cell_type": "markdown",
   "id": "2292194e",
   "metadata": {},
   "source": [
    "Fitting a 1D convolution kernel:"
   ]
  },
  {
   "cell_type": "code",
   "execution_count": 6,
   "id": "3eb5bd45",
   "metadata": {},
   "outputs": [],
   "source": [
    "import jax\n",
    "import jax.numpy as jnp\n",
    "from jax import grad\n",
    "\n",
    "def convolution_1d_jax(x, kernel):\n",
    "    kernel_half = len(kernel) // 2\n",
    "    Y = []\n",
    "    for i in range(len(x)):  # Loop over input data\n",
    "        if i >= kernel_half and i < len(x) - kernel_half:\n",
    "            window = x[i - kernel_half : i + kernel_half + 1]  # Extract window\n",
    "            y_i = jnp.dot(window, kernel)  # Compute dot product\n",
    "            Y.append(y_i)\n",
    "    return jnp.array(Y)\n"
   ]
  },
  {
   "cell_type": "code",
   "execution_count": 7,
   "id": "f68dcab1",
   "metadata": {},
   "outputs": [
    {
     "name": "stderr",
     "output_type": "stream",
     "text": [
      "No GPU/TPU found, falling back to CPU. (Set TF_CPP_MIN_LOG_LEVEL=0 and rerun for more info.)\n"
     ]
    },
    {
     "name": "stdout",
     "output_type": "stream",
     "text": [
      "Epoch 0, Loss: 10.569812\n",
      "Epoch 10, Loss: 2.080700\n",
      "Epoch 20, Loss: 0.501841\n",
      "Epoch 30, Loss: 0.122107\n",
      "Epoch 40, Loss: 0.030179\n",
      "Epoch 50, Loss: 0.007706\n",
      "Epoch 60, Loss: 0.002097\n",
      "Epoch 70, Loss: 0.000636\n",
      "Epoch 80, Loss: 0.000224\n",
      "Epoch 90, Loss: 0.000092\n",
      "[-1.0014079   0.00423985  0.99724495]\n"
     ]
    }
   ],
   "source": [
    "x=jnp.array([2.0, 2.1, 2.2, 2.3, 7.6, 7.5, 7.4, 7.3])  # input\n",
    "y=jnp.array([0.2, 0.2, 5.4, 5.2, -0.2, -0.2]) # expected output\n",
    "\n",
    "k=jnp.array([0.1, 0.2, -0.3]) # initiliaze a kernel randomly (or \"kernel\", \"weight\", \"parameters\", \"trainable variables\")\n",
    "\n",
    "def loss_fn(k, x, y_true):\n",
    "    y_pred = convolution_1d_jax(x, k)\n",
    "    return jnp.mean((y_pred - y_true) ** 2) # scalar\n",
    "\n",
    "grad_loss_fn = grad(loss_fn)\n",
    "\n",
    "for epoch in range(100):\n",
    "    \n",
    "    grads = grad_loss_fn(k, x, y)\n",
    "    \n",
    "    k -= 0.01 * grads #  descent the loss\n",
    "\n",
    "    # Print loss every 10 epochs\n",
    "    if epoch % 10 == 0:\n",
    "        loss_val = loss_fn(k, x, y)\n",
    "        print(f'Epoch {epoch}, Loss: {loss_val:.6f}')\n",
    "\n",
    "print(k)\n",
    "\n",
    "# O((N-K//2)*K)*E)\n",
    "# in the case where the edge is constant and \"small\" (e.g. 3):  O(N)"
   ]
  },
  {
   "cell_type": "markdown",
   "id": "1e0e6e22",
   "metadata": {},
   "source": [
    "Decomposition of the 1D convolution training for future parallelization"
   ]
  },
  {
   "cell_type": "code",
   "execution_count": 8,
   "id": "28ae933d",
   "metadata": {},
   "outputs": [
    {
     "name": "stdout",
     "output_type": "stream",
     "text": [
      "Epoch 0, Loss: 10.569813\n",
      "Epoch 10, Loss: 2.080700\n",
      "Epoch 20, Loss: 0.501841\n",
      "Epoch 30, Loss: 0.122107\n",
      "Epoch 40, Loss: 0.030179\n",
      "Epoch 50, Loss: 0.007706\n",
      "Epoch 60, Loss: 0.002097\n",
      "Epoch 70, Loss: 0.000636\n",
      "Epoch 80, Loss: 0.000224\n",
      "Epoch 90, Loss: 0.000092\n",
      "[-1.0014079   0.00423983  0.99724495]\n"
     ]
    }
   ],
   "source": [
    "global_x=jnp.array([2.0, 2.1, 2.2, 2.3, 7.6, 7.5, 7.4, 7.3])  # input\n",
    "global_y=jnp.array([0.2, 0.2, 5.4, 5.2,-0.2, -0.2]) # expected output\n",
    "\n",
    "x1=jnp.array([2.0, 2.1, 2.2, 2.3])\n",
    "y1=jnp.array([0.2, 0.2])\n",
    "\n",
    "x2=jnp.array([2.2, 2.3, 7.6, 7.5, 7.4, 7.3])\n",
    "y2=jnp.array([5.4, 5.2, -0.2, -0.2])\n",
    "\n",
    "k=jnp.array([0.1, 0.2, -0.3]) # initiliaze a kernel randomly (or \"kernel\", \"weight\", \"parameters\", \"trainable variables\")\n",
    "\n",
    "def loss_fn(k, x, y_true):\n",
    "    y_pred = convolution_1d_jax(x, k)\n",
    "    return jnp.mean((y_pred - y_true) ** 2) # scalar\n",
    "\n",
    "grad_loss_fn = grad(loss_fn)\n",
    "\n",
    "\n",
    "local_db=[(x1,y1), (x2,y2)]\n",
    "\n",
    "for epoch in range(100):\n",
    "    local_grads=[]\n",
    "    for x, y in local_db: # <--- PARALLEL FOR\n",
    "        local_grad = grad_loss_fn(k, x, y)\n",
    "        local_grads.append(local_grad)\n",
    "        \n",
    "    # we aggregate gradients with weigthed averaging because the loss is an average    \n",
    "    grads=((local_grads[0]*len(y1))+local_grads[1]*len(y2))/(len(y1)+len(y2))\n",
    "    \n",
    "    k -= 0.01 * grads #  descent the loss\n",
    "\n",
    "    # Print loss every 10 epochs\n",
    "    if epoch % 10 == 0:\n",
    "        loss_val = loss_fn(k, global_x, global_y)\n",
    "        print(f'Epoch {epoch}, Loss: {loss_val:.6f}')\n",
    "\n",
    "\n",
    "# # O((((N-K//2)*K)//P)*E)) with N input data size, K kernel size, E number of training iterations (or \"epoch\"), P CPU cores \n",
    "print(k)"
   ]
  },
  {
   "cell_type": "code",
   "execution_count": null,
   "id": "e3b27190",
   "metadata": {},
   "outputs": [],
   "source": []
  },
  {
   "cell_type": "markdown",
   "id": "efa0ef1b",
   "metadata": {},
   "source": [
    "# 2D Convolution"
   ]
  },
  {
   "cell_type": "markdown",
   "id": "11802f62",
   "metadata": {},
   "source": [
    "Illustration of convolution_2D(input_signal, kernel)\n",
    "\n",
    "with \n",
    "\n",
    "```\n",
    "input_signal=[[1,1,1,0,0],\n",
    "              [0,1,1,1,0],\n",
    "              [0,0,1,1,1],\n",
    "              [0,0,1,1,0],\n",
    "              [0,1,1,0,0]]\n",
    "kernel=[[1,0,1],\n",
    "        [0,1,0],\n",
    "        [1,0,1]]\n",
    "\n",
    "output=[[4,3,4],\n",
    "        [2,4,3],\n",
    "        [2,3,4]]\n",
    "```\n",
    "![Example Image](conv.gif)\n",
    "\n",
    "```\n",
    "\n",
    "input signal size: H, W\n",
    "kernel size: kH, kW\n",
    "\n",
    "padding size:\n",
    "pH=kH//2\n",
    "pW=kW//2\n",
    "\n",
    "Complexity:\n",
    "O((H-pH) * (W-pW) * kH * kW)\n",
    "\n",
    "if kernel is constant and \"small\".\n",
    "\n",
    "O(H * W)\n",
    "\n",
    "We can assume H and W are approximately the same shape\n",
    "\n",
    "O(N²)\n",
    "```"
   ]
  },
  {
   "cell_type": "code",
   "execution_count": 9,
   "id": "833923f8",
   "metadata": {},
   "outputs": [
    {
     "name": "stdout",
     "output_type": "stream",
     "text": [
      "Image as Python array\n"
     ]
    },
    {
     "data": {
      "image/png": "[encoded data removed]",
      "text/plain": [
       "<Figure size 640x480 with 1 Axes>"
      ]
     },
     "metadata": {},
     "output_type": "display_data"
    },
    {
     "name": "stdout",
     "output_type": "stream",
     "text": [
      "Image as Python array\n",
      "[[  0   0   0   0   0   0   0   0   0   0   0   0   0   0   0   0   0   0\n",
      "    0   0   0   0   0   0   0   0   0   0]\n",
      " [  0   0   0   0   0   0   0   0   0   0   0   0   0   0   0   0   0   0\n",
      "    0   0   0   0   0   0   0   0   0   0]\n",
      " [  0   0   0   0   0   0   0   0   0   0   0   0   0   0   0   0   0   0\n",
      "    0   0   0   0   0   0   0   0   0   0]\n",
      " [  0   0   0   0   0   0   0   0   0   0   0   0   0   0   0   0   0   0\n",
      "    0   0   0   0   0   0   0   0   0   0]\n",
      " [  0   0   0   0   0   0   0   0   0   0   0   0   0   0   0  51 159 253\n",
      "  159  50   0   0   0   0   0   0   0   0]\n",
      " [  0   0   0   0   0   0   0   0   0   0   0   0   0   0  48 238 252 252\n",
      "  252 237   0   0   0   0   0   0   0   0]\n",
      " [  0   0   0   0   0   0   0   0   0   0   0   0   0  54 227 253 252 239\n",
      "  233 252  57   6   0   0   0   0   0   0]\n",
      " [  0   0   0   0   0   0   0   0   0   0   0  10  60 224 252 253 252 202\n",
      "   84 252 253 122   0   0   0   0   0   0]\n",
      " [  0   0   0   0   0   0   0   0   0   0   0 163 252 252 252 253 252 252\n",
      "   96 189 253 167   0   0   0   0   0   0]\n",
      " [  0   0   0   0   0   0   0   0   0   0  51 238 253 253 190 114 253 228\n",
      "   47  79 255 168   0   0   0   0   0   0]\n",
      " [  0   0   0   0   0   0   0   0   0  48 238 252 252 179  12  75 121  21\n",
      "    0   0 253 243  50   0   0   0   0   0]\n",
      " [  0   0   0   0   0   0   0   0  38 165 253 233 208  84   0   0   0   0\n",
      "    0   0 253 252 165   0   0   0   0   0]\n",
      " [  0   0   0   0   0   0   0   7 178 252 240  71  19  28   0   0   0   0\n",
      "    0   0 253 252 195   0   0   0   0   0]\n",
      " [  0   0   0   0   0   0   0  57 252 252  63   0   0   0   0   0   0   0\n",
      "    0   0 253 252 195   0   0   0   0   0]\n",
      " [  0   0   0   0   0   0   0 198 253 190   0   0   0   0   0   0   0   0\n",
      "    0   0 255 253 196   0   0   0   0   0]\n",
      " [  0   0   0   0   0   0  76 246 252 112   0   0   0   0   0   0   0   0\n",
      "    0   0 253 252 148   0   0   0   0   0]\n",
      " [  0   0   0   0   0   0  85 252 230  25   0   0   0   0   0   0   0   0\n",
      "    7 135 253 186  12   0   0   0   0   0]\n",
      " [  0   0   0   0   0   0  85 252 223   0   0   0   0   0   0   0   0   7\n",
      "  131 252 225  71   0   0   0   0   0   0]\n",
      " [  0   0   0   0   0   0  85 252 145   0   0   0   0   0   0   0  48 165\n",
      "  252 173   0   0   0   0   0   0   0   0]\n",
      " [  0   0   0   0   0   0  86 253 225   0   0   0   0   0   0 114 238 253\n",
      "  162   0   0   0   0   0   0   0   0   0]\n",
      " [  0   0   0   0   0   0  85 252 249 146  48  29  85 178 225 253 223 167\n",
      "   56   0   0   0   0   0   0   0   0   0]\n",
      " [  0   0   0   0   0   0  85 252 252 252 229 215 252 252 252 196 130   0\n",
      "    0   0   0   0   0   0   0   0   0   0]\n",
      " [  0   0   0   0   0   0  28 199 252 252 253 252 252 233 145   0   0   0\n",
      "    0   0   0   0   0   0   0   0   0   0]\n",
      " [  0   0   0   0   0   0   0  25 128 252 253 252 141  37   0   0   0   0\n",
      "    0   0   0   0   0   0   0   0   0   0]\n",
      " [  0   0   0   0   0   0   0   0   0   0   0   0   0   0   0   0   0   0\n",
      "    0   0   0   0   0   0   0   0   0   0]\n",
      " [  0   0   0   0   0   0   0   0   0   0   0   0   0   0   0   0   0   0\n",
      "    0   0   0   0   0   0   0   0   0   0]\n",
      " [  0   0   0   0   0   0   0   0   0   0   0   0   0   0   0   0   0   0\n",
      "    0   0   0   0   0   0   0   0   0   0]\n",
      " [  0   0   0   0   0   0   0   0   0   0   0   0   0   0   0   0   0   0\n",
      "    0   0   0   0   0   0   0   0   0   0]]\n"
     ]
    }
   ],
   "source": [
    "import numpy as np\n",
    "import matplotlib.pyplot as plt\n",
    "from tensorflow.keras.datasets import mnist\n",
    "\n",
    "# Load the MNIST dataset\n",
    "(x_train, y_train), (x_test, y_test) = mnist.load_data()\n",
    "\n",
    "x=x_train[1] # Select the second image\n",
    "\n",
    "# Visualize the image\n",
    "print(\"Image as Python array\")\n",
    "plt.imshow(x, cmap='gray')\n",
    "plt.show()\n",
    "\n",
    "# Print as python data structure\n",
    "print(\"Image as Python array\")\n",
    "print(x)"
   ]
  },
  {
   "cell_type": "code",
   "execution_count": 10,
   "id": "0c2581b0",
   "metadata": {},
   "outputs": [],
   "source": [
    "def convolution_2d(x, kernel):\n",
    "    # Get dimensions of the input data and kernel\n",
    "    input_height = len(x)\n",
    "    input_width = len(x[0])\n",
    "    kernel_height = len(kernel)\n",
    "    kernel_width = len(kernel[0])\n",
    "    \n",
    "    # Calculate the padding size\n",
    "    pad_height = kernel_height // 2\n",
    "    pad_width = kernel_width // 2\n",
    "    \n",
    "    # Initialize the output matrix\n",
    "    output_data = np.zeros((input_height, input_width)) # O(N*N) in memory\n",
    "    \n",
    "    # Perform the convolution operation\n",
    "    for i in range(input_height): # Loop N times\n",
    "        for j in range(input_width): # In overall, it loops H*W times\n",
    "            # Check boundaries for padding\n",
    "            if (i >= pad_height and i < input_height - pad_height and\n",
    "                j >= pad_width and j < input_width - pad_width):\n",
    "                \n",
    "                # Extract the region of interest\n",
    "                region = x[i - pad_height:i + pad_height + 1,\n",
    "                                    j - pad_width:j + pad_width + 1]\n",
    "                \n",
    "                # Perform the convolution patch operation (element-wise multiplication and sum)\n",
    "                output_data[i, j] = np.sum(region * kernel) # this line is O(kH*kW) but repeated H*W\n",
    "    \n",
    "    return output_data"
   ]
  },
  {
   "cell_type": "code",
   "execution_count": 11,
   "id": "6a759d39",
   "metadata": {},
   "outputs": [],
   "source": [
    "kernel = np.array([[0, 0, 0],\n",
    "                   [-1, 0, 1],\n",
    "                   [0, 0, 0]]) # <--- horizontal edge detection\n",
    "#kernel = np.array([[0, 0, 0],\n",
    "#                   [-1, 0, 1],\n",
    "#                   [0, 0, 0]]) # <--- vertical edge detection\n",
    "\n",
    "y=convolution_2d(x, kernel) # O(H*W*kH*kW)  if k is short, and if H=W -> O(n²)."
   ]
  },
  {
   "cell_type": "code",
   "execution_count": 12,
   "id": "e35eb928",
   "metadata": {},
   "outputs": [
    {
     "data": {
      "image/png": "[encoded data removed]",
      "text/plain": [
       "<Figure size 640x480 with 1 Axes>"
      ]
     },
     "metadata": {},
     "output_type": "display_data"
    }
   ],
   "source": [
    "plt.imshow(y, cmap='gray')\n",
    "plt.show()"
   ]
  },
  {
   "cell_type": "code",
   "execution_count": 13,
   "id": "60d7df3a",
   "metadata": {},
   "outputs": [
    {
     "data": {
      "image/png": "[encoded data removed]",
      "text/plain": [
       "<Figure size 640x480 with 1 Axes>"
      ]
     },
     "metadata": {},
     "output_type": "display_data"
    }
   ],
   "source": [
    "kernel = np.array([[0, 0, 0, 0, 0],\n",
    "                   [0, 0, 0, 0, 0],\n",
    "                   [0, 0, 0, 0, 1]]) # <--- shift 2px right, 1px bottom\n",
    "\n",
    "y=convolution_2d(y, kernel)\n",
    "\n",
    "plt.imshow(y, cmap='gray')\n",
    "plt.show()"
   ]
  },
  {
   "cell_type": "markdown",
   "id": "7eca230c",
   "metadata": {},
   "source": [
    "## 3D Convolution\n",
    "\n",
    "3D appplications involves video-stream (2D spatial+1D temporal), medical (e.g., CT-scan), geological data (e.g., sub-surface data), X-ray tomography ...\n",
    "\n",
    "Time Complexity: O((H-(kH//2)) * (W-kW//2) * (D-kD//2) * kH * kW * kD) \n",
    "\n",
    "* H, W, D: Height, width, and depth of the input volume (e.g., for a video: height, width, and time).\n",
    "* kH, kW, kD: Height, width, and depth of the kernel (filter).\n"
   ]
  },
  {
   "cell_type": "markdown",
   "id": "8640fe81",
   "metadata": {},
   "source": [
    "## 2D Convolution of a RGB image"
   ]
  },
  {
   "cell_type": "code",
   "execution_count": 14,
   "id": "d5b098ad",
   "metadata": {},
   "outputs": [
    {
     "data": {
      "image/png": "[encoded data removed]",
      "text/plain": [
       "<Figure size 640x480 with 1 Axes>"
      ]
     },
     "metadata": {},
     "output_type": "display_data"
    }
   ],
   "source": [
    "import numpy as np\n",
    "import matplotlib.pyplot as plt\n",
    "from tensorflow.keras.datasets import cifar100\n",
    "\n",
    "# Load the CIFAR-100 dataset\n",
    "(x_train, y_train), (x_test, y_test) = cifar100.load_data(label_mode=\"fine\")\n",
    "\n",
    "# CIFAR-100 fine labels (100 classes)\n",
    "label_names = [\"apple\", \"aquarium_fish\", \"baby\", \"bear\", \"beaver\", \"bed\", \"bee\", \"beetle\", \"bicycle\", \"bottle\", \"bowl\", \"boy\", \"bridge\", \"bus\", \"butterfly\", \"camel\", \"can\", \"castle\", \"caterpillar\", \"cattle\", \"chair\", \"chimpanzee\", \"clock\", \"cloud\", \"cockroach\", \"couch\", \"crab\", \"crocodile\", \"cup\", \"dinosaur\", \"dolphin\", \"elephant\", \"flatfish\", \"forest\", \"fox\", \"girl\", \"hamster\", \"house\", \"kangaroo\", \"keyboard\", \"lamp\", \"lawn_mower\", \"leopard\", \"lion\", \"lizard\", \"lobster\", \"man\", \"maple_tree\", \"motorcycle\", \"mountain\", \"mouse\", \"mushroom\", \"oak_tree\", \"orange\", \"orchid\", \"otter\", \"palm_tree\", \"pear\", \"pickup_truck\", \"pine_tree\", \"plain\", \"plate\", \"poppy\", \"porcupine\", \"possum\", \"rabbit\", \"raccoon\", \"ray\", \"road\", \"rocket\", \"rose\", \"sea\", \"seal\", \"shark\", \"shrew\", \"skunk\", \"skyscraper\", \"snail\", \"snake\", \"spider\", \"squirrel\", \"streetcar\", \"sunflower\", \"sweet_pepper\", \"table\", \"tank\", \"telephone\", \"television\", \"tiger\", \"tractor\", \"train\", \"trout\", \"tulip\", \"turtle\", \"wardrobe\", \"whale\", \"willow_tree\", \"wolf\", \"woman\", \"worm\"]\n",
    "\n",
    "# Find the index of 'tiger' class in the label_names\n",
    "selected_class_index = label_names.index('tiger')\n",
    "\n",
    "# Get all the indices of zebra images\n",
    "selected_indices = np.where(y_train == selected_class_index)[0]\n",
    "image = x_train[selected_indices[4]]\n",
    "\n",
    "\n",
    "plt.imshow(image)\n",
    "plt.show()\n",
    "\n"
   ]
  },
  {
   "cell_type": "code",
   "execution_count": 15,
   "id": "12e8f009",
   "metadata": {},
   "outputs": [],
   "source": [
    "def convolution_2d_rgb(x, kernel):\n",
    "    \n",
    "    input_height, input_width, input_channels = x.shape\n",
    "    kernel_height, kernel_width, input_channels, output_channels = kernel.shape\n",
    "    \n",
    "    # Calculate the padding size\n",
    "    pad_height = kernel_height // 2\n",
    "    pad_width = kernel_width // 2\n",
    "    \n",
    "    # Initialize the output matrix for ch_out channels\n",
    "    output_data = np.zeros((input_height, input_width, output_channels)) # O(N*N*ch_out) in memory\n",
    "    \n",
    "    # Perform the convolution operation\n",
    "    for i in range(pad_height, input_height - pad_height): # Loop over height\n",
    "        for j in range(pad_width, input_width - pad_width): # Loop over width\n",
    "            \n",
    "            # Extract the region of interest (roi)\n",
    "            region = x[i - pad_height:i + pad_height + 1,\n",
    "                       j - pad_width:j + pad_width + 1]\n",
    "            # region is (k, k, input_channels)\n",
    "            \n",
    "            output_pixel = np.zeros((3,),dtype=np.float32)\n",
    "            for ki in range(len(region)):\n",
    "                for kj in range(len(region[0])):\n",
    "                    window_element_out=np.dot(region[ki][kj][:][:] , kernel[ki][kj][:][:] )\n",
    "                    output_pixel+=window_element_out\n",
    "            \n",
    "            \n",
    "            # Assign the computed value to the output\n",
    "            output_data[i, j] = output_pixel\n",
    "    \n",
    "    return output_data\n"
   ]
  },
  {
   "cell_type": "code",
   "execution_count": 16,
   "id": "df95bc79",
   "metadata": {},
   "outputs": [],
   "source": [
    "kernel = np.zeros((3, 3, 3, 3), dtype=np.float32) # TENSOR 4D 2 spatial coordinates, input_channels (RGB: 3), output_channels ()\n",
    "kernel[1][1][1][0]=1. # the green (input) become red (output)\n",
    "kernel[1][1][0][1]=1. # the red (input) become green (output)\n",
    "kernel[1][1][2][2]=1. # the blue stay blue\n",
    "\n",
    "y = convolution_2d_rgb(image/255., kernel) # O(N*N*K*K*C*C)"
   ]
  },
  {
   "cell_type": "code",
   "execution_count": 17,
   "id": "f3d0e5d9",
   "metadata": {},
   "outputs": [
    {
     "data": {
      "image/png": "[encoded data removed]",
      "text/plain": [
       "<Figure size 640x480 with 1 Axes>"
      ]
     },
     "metadata": {},
     "output_type": "display_data"
    }
   ],
   "source": [
    "plt.imshow(y)\n",
    "plt.show()"
   ]
  },
  {
   "cell_type": "markdown",
   "id": "f436f929",
   "metadata": {},
   "source": [
    "## Graph convolution\n",
    "\n",
    "The key idea in Graph Convoltion is that a node's representation reflect:\n",
    "* its own features\n",
    "* and the features of its neighbors. \n",
    "\n",
    "This reflects a real-world concept: things that are connected tend to be related or influence each other.\n",
    "\n",
    "For example:\n",
    "\n",
    "* In a social network, people with similar interests (music, books, fashion, etc.) are more likely to be friends and influenced each other.\n",
    "* In a citation network, a document's significance might be influenced/correlated by the document it cites.\n",
    "\n",
    "\n",
    "It consists in 2 steps:\n",
    "\n",
    "    1. Linear combination: nodes[i]=np.dot(k, nodes[i])\n",
    "    \n",
    "    2. Aggregation: nodes2 = np.dot(Adjacency(nodes), nodes)\n",
    "\n",
    "\n",
    "with:\n",
    "* n nodes and f_in charateristics\n",
    "* k is the kernel, a matrix (f_in, f_out)\n",
    "* nodes2 n nodes and f_out characteristics"
   ]
  },
  {
   "cell_type": "markdown",
   "id": "e8133faa",
   "metadata": {},
   "source": [
    "### Aggregation principle"
   ]
  },
  {
   "cell_type": "code",
   "execution_count": 18,
   "id": "d85435f1",
   "metadata": {},
   "outputs": [
    {
     "name": "stdout",
     "output_type": "stream",
     "text": [
      "[[20  0]\n",
      " [40  1]\n",
      " [20  0]]\n"
     ]
    }
   ],
   "source": [
    "# Let's consider a graph of 3 nodes: Alice, Bob, and Charlie.\n",
    "# The graph looks: Alice<->Bob<->Charlie\n",
    "\n",
    "X=np.array([\n",
    "    [10, 1], # Alice feature vector is [10, 1]\n",
    "    [20, 0], # Bob feature vector is [20, 0]\n",
    "    [30, 0]  # Charlie feature vector is [30, 0]\n",
    "]) # memory: O(n*f) with n nodes and f features on each node\n",
    "\n",
    "A=np.array([\n",
    "    [0, 1, 0], # Alice and bob are connected but not Charlie\n",
    "    [1, 0, 1], # Bob is connected to Alice and Charlie\n",
    "    [0, 1, 0], # Charlie is connected to Bob\n",
    "]) # memory O(n*n) with n nodes\n",
    "\n",
    "y=np.dot(A, X) # Time: O(n² * f)\n",
    "print(y) # memory: O(n*f)"
   ]
  },
  {
   "cell_type": "markdown",
   "id": "f5fc4d7c",
   "metadata": {},
   "source": [
    "Notice: The input to the graph convolution is in the same format as the output: (n,f).\n",
    "\n",
    "We can also propagate the information multiple times, allowing for the propagation of information."
   ]
  },
  {
   "cell_type": "code",
   "execution_count": 19,
   "id": "248cf84b",
   "metadata": {},
   "outputs": [
    {
     "name": "stdout",
     "output_type": "stream",
     "text": [
      "[[40  1]\n",
      " [40  0]\n",
      " [40  1]]\n"
     ]
    }
   ],
   "source": [
    "y2=np.dot(A, y) # A second move\n",
    "print(y2)"
   ]
  },
  {
   "cell_type": "markdown",
   "id": "cc0d95f7",
   "metadata": {},
   "source": [
    "We can customize the behavior by processing the adjacency matrix.\n",
    "Customization #1: we add self-connection for not forgetting about the features (removing the \"swap effect\")."
   ]
  },
  {
   "cell_type": "code",
   "execution_count": 20,
   "id": "25524ef8",
   "metadata": {},
   "outputs": [
    {
     "name": "stdout",
     "output_type": "stream",
     "text": [
      "[[30  1]\n",
      " [60  1]\n",
      " [50  0]]\n"
     ]
    }
   ],
   "source": [
    "A=np.array([\n",
    "    [1, 1, 0], # Same matrix but with '1' diagonal\n",
    "    [1, 1, 1],\n",
    "    [0, 1, 1],\n",
    "])\n",
    "\n",
    "y=np.dot(A, X) \n",
    "print(y)"
   ]
  },
  {
   "cell_type": "markdown",
   "id": "47f4c436",
   "metadata": {},
   "source": [
    "Customization #2: Nodes are averaging instead of summing information"
   ]
  },
  {
   "cell_type": "code",
   "execution_count": 21,
   "id": "676bd23e",
   "metadata": {},
   "outputs": [
    {
     "name": "stdout",
     "output_type": "stream",
     "text": [
      "[[15.          0.5       ]\n",
      " [20.          0.33333333]\n",
      " [25.          0.        ]]\n"
     ]
    }
   ],
   "source": [
    "A=np.array([\n",
    "    [0.5, 0.5, 0],\n",
    "    [1./3, 1./3, 1./3],\n",
    "    [0, 0.5, 0.5],\n",
    "])\n",
    "y=np.dot(A, X) \n",
    "print(y)"
   ]
  },
  {
   "cell_type": "markdown",
   "id": "163bb3ab",
   "metadata": {},
   "source": [
    "Conclusion: Just by changing the adjacency matrix we can modify the behaviour of the propagation."
   ]
  },
  {
   "cell_type": "markdown",
   "id": "9090392e",
   "metadata": {},
   "source": [
    "### Graph convolution computing"
   ]
  },
  {
   "cell_type": "markdown",
   "id": "d42d2637",
   "metadata": {},
   "source": [
    "Remember,\n",
    "\n",
    "It consists in 2 steps:\n",
    "    1. Linear combination nodes[i]=np.dot(k, nodes[i])\n",
    "    2. Aggregation nodes = np.dot(Adjacency(nodes), nodes)"
   ]
  },
  {
   "cell_type": "code",
   "execution_count": 22,
   "id": "0569a78c",
   "metadata": {},
   "outputs": [],
   "source": [
    "import numpy as np\n",
    "\n",
    "\n",
    "def plot_graph(adj_matrix, node_values, plot_title):\n",
    "    import networkx as nx\n",
    "    from matplotlib import pyplot as plt\n",
    "    \n",
    "    # Create the graph from the adjacency matrix\n",
    "    G = nx.from_numpy_array(adj_matrix)\n",
    "\n",
    "    # Create a dictionary to map node index to its values for labeling\n",
    "    node_labels = {i: str(node_values[i]) for i in range(len(node_values))}\n",
    "\n",
    "    # Generate positions for the graph layout\n",
    "    pos = nx.spring_layout(G)  # Spring layout for better visualization\n",
    "\n",
    "    # Plot the graph\n",
    "    plt.figure(figsize=(8, 6))\n",
    "\n",
    "    # Draw nodes\n",
    "    nx.draw_networkx_nodes(G, pos, node_color='lightblue', node_size=700)\n",
    "\n",
    "    # Draw edges\n",
    "    nx.draw_networkx_edges(G, pos, edgelist=G.edges(), edge_color='gray')\n",
    "\n",
    "    # Draw labels for nodes (their feature vectors or values)\n",
    "    nx.draw_networkx_labels(G, pos, labels=node_labels, font_size=12)\n",
    "\n",
    "    # Turn off the axis and show the plot\n",
    "    plt.title(plot_title)\n",
    "    #plt.axis(\"off\")\n",
    "    plt.show()\n",
    "\n",
    "# Normalize the adjacency matrix\n",
    "def process_adjency(A):\n",
    "    identity_matrix = np.eye(A.shape[0])\n",
    "    A_hat = A + identity_matrix  # Add self-loops for memorization of the own feature\n",
    "    return A_hat\n",
    "\n",
    "def graph_convolution_with_display(A_hat, X, W):\n",
    "\n",
    "    plot_graph(A_hat, X, \" Before graph conv\")\n",
    "    \n",
    "    # STEP 1: Linear combination\n",
    "    nodes_vec=[]\n",
    "    for node_vec in X:  # N nodes\n",
    "        node_vec = np.dot(node_vec, W) # Vector is (f_in) Matrix is (f_in,f_out) O(f_in*f_out)\n",
    "        nodes_vec.append( node_vec )\n",
    "    nodes_vec=np.array(nodes_vec) # convert into numpy array\n",
    "    # overall step: O(N*f_in*f_out) with N the number of nodes, f_in & f_out the number of features in & out.\n",
    "    \n",
    "    \n",
    "    plot_graph(A_hat, nodes_vec, \" After step-1\")\n",
    "    \n",
    "    # STEP 2 : Aggreation\n",
    "    res_vectors=[] \n",
    "    for A_hat_row in A_hat:\n",
    "        res_vec = np.dot(A_hat_row, nodes_vec)\n",
    "        res_vectors.append( res_vec )\n",
    "    res_vectors=np.array(res_vectors)\n",
    "    # O(N²*f_out)\n",
    "    \n",
    "    \n",
    "    plot_graph(A_hat, res_vectors, \" After graph conv\")\n",
    "    \n",
    "    return res_vectors\n",
    "\n",
    "    # Question: What is the Big-O notation of graph convolution ?\n",
    "    # O( max(N*f_in*f_out ,  N²*f_out ) )"
   ]
  },
  {
   "cell_type": "code",
   "execution_count": 23,
   "id": "8c3f5546",
   "metadata": {},
   "outputs": [
    {
     "data": {
      "image/png": "[encoded data removed]",
      "text/plain": [
       "<Figure size 800x600 with 1 Axes>"
      ]
     },
     "metadata": {},
     "output_type": "display_data"
    },
    {
     "data": {
      "image/png": "[encoded data removed]",
      "text/plain": [
       "<Figure size 800x600 with 1 Axes>"
      ]
     },
     "metadata": {},
     "output_type": "display_data"
    },
    {
     "data": {
      "image/png": "[encoded data removed]",
      "text/plain": [
       "<Figure size 800x600 with 1 Axes>"
      ]
     },
     "metadata": {},
     "output_type": "display_data"
    }
   ],
   "source": [
    "# Example adjacency matrix (5 nodes)\n",
    "Adjacency = np.array([[0, 1, 0, 0, 0],  # Node 0 is connected to Node 1\n",
    "                      [1, 0, 1, 1, 0],  # Node 1 is connected to Nodes 0, 2, and 3\n",
    "                      [0, 1, 0, 0, 0],  # Node 2 is connected to Node 1\n",
    "                      [0, 1, 0, 0, 0],  # Node 3 is connected to Node 1\n",
    "                      [0, 0, 0, 0, 0]])  # Node 4 is isolated (no connections)\n",
    "\n",
    "# Normalize adjacency matrix\n",
    "A_hat = process_adjency(Adjacency)\n",
    "\n",
    "\n",
    "# Example node feature matrix (5 nodes, 3 features per node)\n",
    "X = np.array([[1, 0, 1],  # Features for Node 0\n",
    "              [0, 0, 0],  # Features for Node 1\n",
    "              [0, 1, 0],  # Features for Node 2\n",
    "              [0, 0, 1],  # Features for Node 3\n",
    "              [0, 0, 0]]) # Features for Node 4\n",
    "\n",
    "\n",
    "# Weight matrix (input_dim = 3, output_dim = 2)\n",
    "W = np.array([[1, 0],  # Transforming [x, y, z] into [x, z]\n",
    "              [0, 0],\n",
    "              [0, 1]], dtype=np.float32)\n",
    "\n",
    "y=graph_convolution_with_display(A_hat, X, W)"
   ]
  },
  {
   "cell_type": "markdown",
   "id": "0c0b562b",
   "metadata": {},
   "source": [
    "Question 1: Can we repeat this graph_conv ? on X (the output becomes the input of the conv)\n",
    "No because the convolution expects 3 characteristics for each node.\n",
    "\n",
    "Question 2: Complexity of Graph Convolution ?\n",
    "O( max(N*f_in*f_out ,  N²*f_out ) )\n",
    "\n",
    "Question 3: How can we use the HPC ?\n",
    "* Training on 1 big graph (memory parallelism):\n",
    "    * 1 big graph (tensor-parallelism) \n",
    "* Training faster:\n",
    "    * 1 big graph (tensor-parallelism) \n",
    "    * Many graph (data-parallelism) with Parallel Stochachastic Gradient Descent"
   ]
  },
  {
   "cell_type": "markdown",
   "id": "89e2dacb",
   "metadata": {},
   "source": [
    "**What about real-world graph data for ML ?**\n",
    "\n",
    "URL : https://ogb.stanford.edu/docs/dataset_overview/\n",
    "\n",
    "* 1 dataset may contains millions of graphs.\n",
    "* 1 graph may contains millions of nodes and edges.\n",
    "* What about the sparsity ?\n",
    "    * How to measure it ?\n",
    "    * What is the consequence on the aggregation computing ?\n",
    "    * How to manage it ?\n",
    "    \n",
    "    ==> Sparse arithmetic\n"
   ]
  },
  {
   "cell_type": "markdown",
   "id": "193af68d",
   "metadata": {},
   "source": [
    "Generate a synthetic large-scale graph"
   ]
  },
  {
   "cell_type": "code",
   "execution_count": 12,
   "id": "e38ce25c",
   "metadata": {},
   "outputs": [],
   "source": [
    "import numpy as np\n",
    "\n",
    "num_nodes=20000\n",
    "num_edges=40000\n",
    "num_feat=1000\n",
    "\n",
    "edges=np.random.randint(0, num_nodes,(num_edges, 2,)) # warning: some redudant edges are possible\n",
    "nodes=np.random.uniform(-1., 1., (num_nodes, num_feat))"
   ]
  },
  {
   "cell_type": "markdown",
   "id": "adfabf66",
   "metadata": {},
   "source": [
    "Standard aggregation"
   ]
  },
  {
   "cell_type": "code",
   "execution_count": 16,
   "id": "162f67c9",
   "metadata": {},
   "outputs": [
    {
     "name": "stdout",
     "output_type": "stream",
     "text": [
      "CPU times: user 2 µs, sys: 1 µs, total: 3 µs\n",
      "Wall time: 6.44 µs\n"
     ]
    }
   ],
   "source": [
    "%time\n",
    "\n",
    "# Adjacency matrix creation\n",
    "A=np.zeros((num_nodes, num_nodes)) # memory: O(N*N)\n",
    "for e1, e2 in edges: # Compute: O(E)\n",
    "  A[e1][e2]=1.\n",
    "  A[e2][e1]=1."
   ]
  },
  {
   "cell_type": "code",
   "execution_count": 17,
   "id": "a42df6da",
   "metadata": {},
   "outputs": [
    {
     "name": "stdout",
     "output_type": "stream",
     "text": [
      "-1.023858333260211\n",
      "CPU times: user 31.4 s, sys: 7.87 s, total: 39.3 s\n",
      "Wall time: 2.85 s\n"
     ]
    }
   ],
   "source": [
    "%%time\n",
    "\n",
    "# A is NxN and `nodes` NxF\n",
    "\n",
    "res=np.dot(A, nodes) # computation: O(N*N*F) \n",
    "\n",
    "print(res[0][5])"
   ]
  },
  {
   "cell_type": "markdown",
   "id": "6dbf0ba9",
   "metadata": {},
   "source": [
    "Aggregation with Adjacency matrix into a COO (Coordinate List) format"
   ]
  },
  {
   "cell_type": "code",
   "execution_count": 20,
   "id": "233206e2",
   "metadata": {},
   "outputs": [
    {
     "name": "stdout",
     "output_type": "stream",
     "text": [
      "CPU times: user 62.7 ms, sys: 2.06 ms, total: 64.7 ms\n",
      "Wall time: 63.2 ms\n"
     ]
    }
   ],
   "source": [
    "%%time\n",
    "\n",
    "A=dict()\n",
    "A[\"row\"]=[]\n",
    "A[\"col\"] = []\n",
    "A[\"val\"] = []\n",
    "\n",
    "# Fill the COO representation with edges\n",
    "for e1, e2 in edges:  # memory: O(E), computation: O(E) where E is the number of edges\n",
    "    A[\"row\"].append(e1)\n",
    "    A[\"col\"].append(e2)\n",
    "    A[\"val\"].append(1.)\n",
    "\n",
    "    A[\"row\"].append(e2)\n",
    "    A[\"col\"].append(e1)\n",
    "    A[\"val\"].append(1.)"
   ]
  },
  {
   "cell_type": "code",
   "execution_count": 22,
   "id": "f52d8484",
   "metadata": {},
   "outputs": [
    {
     "name": "stdout",
     "output_type": "stream",
     "text": [
      "First node features:  -1.023858333260211\n",
      "CPU times: user 323 ms, sys: 126 ms, total: 450 ms\n",
      "Wall time: 448 ms\n"
     ]
    }
   ],
   "source": [
    "%%time\n",
    "\n",
    "# PSEUDO CODE: \n",
    "# for all i, y[row[i]]+=val[i]*X[col[i]] # matrix-vec dot product in COO (Coordinated Format)\n",
    "# cumul of multiplication a vector by a scalar\n",
    "\n",
    "res = np.zeros((num_nodes, num_feat))\n",
    "num_arcs=len(A[\"row\"])\n",
    "for i in range(num_arcs): \n",
    "    e1 = A[\"row\"][i]\n",
    "    e2 = A[\"col\"][i]\n",
    "    val = A[\"val\"][i] # scalar `1`\n",
    "    col=nodes[e2] # `F` length vector\n",
    "    mul_col=val*col # multiplication all along the column\n",
    "    res[e1] += mul_col # O(F) cumul the colum on the selected `e1` row\n",
    "    \n",
    "# Matrix dot into O(E*F) instead of O(N*N*F) !!!!!\n",
    "print(\"First node features: \", res[0][5])"
   ]
  },
  {
   "cell_type": "markdown",
   "id": "4299132d",
   "metadata": {},
   "source": [
    "# Model on sequential data\n",
    "\n",
    "2 types of model:\n",
    "![Example Image](COMP.png)\n",
    "\n",
    "The popular LSTM (Long-Short Term Memory) is a kind of RNN."
   ]
  },
  {
   "cell_type": "markdown",
   "id": "5bd4f049",
   "metadata": {},
   "source": [
    "## Auto-Regressive Mode"
   ]
  },
  {
   "cell_type": "markdown",
   "id": "00f4cd60",
   "metadata": {},
   "source": [
    "This process is repeated for predicting `n` values in the future:\n",
    "* Prediction at t+1 using a linear combination of the current window of timesteps.\n",
    "* The predicted value is then added to the window, while the oldest value is removed.\n",
    "\n",
    "Illustration:\n",
    "![Example Image](AR.gif)"
   ]
  },
  {
   "cell_type": "code",
   "execution_count": 23,
   "id": "f24c3d61",
   "metadata": {},
   "outputs": [],
   "source": [
    "# the input window: 3 timesteps, 2 variables (or \"features\")\n",
    "# Ex: predicting temp. and humid. at t with history  t-1, t-2, t-3.\n",
    "X=np.array([[0.1, 0.4], [0.1, 0.5], [0.1, 0.6]]) # first var. const to 0.1, 0.6\n",
    "\n",
    "# W is input_time_steps*variables x variables\n",
    "W = np.array([[0., 0., 0. , 0., 0., 0.],[ 0, 0, 0, 0., 0., 1.]]) \n",
    "b = np.array([[0.1]])\n",
    "horizon = 5"
   ]
  },
  {
   "cell_type": "code",
   "execution_count": 29,
   "id": "eb6943d9",
   "metadata": {},
   "outputs": [],
   "source": [
    "def forecast_1step(X_flatten, W, b):\n",
    "    return np.dot(W, X_flatten) + b\n",
    "\n",
    "def forecast(horizon, X, W, b):\n",
    "    X=X.copy()\n",
    "    result = []\n",
    "    \n",
    "    # Forecast future values\n",
    "    for t in range(horizon):  # Loop over 'n' future time steps to forecast\n",
    "        \n",
    "        # Predict the next value as the linear combination of the last 'window_size' timesteps\n",
    "        X_flatten=X.flatten()\n",
    "        y_next = forecast_1step(X_flatten, W, b)\n",
    "        \n",
    "        # Append the predicted value to the known data\n",
    "        # Create a new window with the latest prediction\n",
    "        for i in range(len(X)-1):\n",
    "            X[i] = X[i+1]\n",
    "        X[len(X)-1]=y_next  # Shift the window to exclude the oldest timestep\n",
    "        \n",
    "        result.append(y_next)  # Store the predicted timestep\n",
    "        \n",
    "    return result  # Return the list of forecasts"
   ]
  },
  {
   "cell_type": "code",
   "execution_count": 30,
   "id": "feb6f6b1",
   "metadata": {},
   "outputs": [
    {
     "name": "stdout",
     "output_type": "stream",
     "text": [
      "[array([[0.1, 0.7]]), array([[0.1, 0.8]]), array([[0.1, 0.9]]), array([[0.1, 1. ]]), array([[0.1, 1.1]]), array([[0.1, 1.2]]), array([[0.1, 1.3]]), array([[0.1, 1.4]]), array([[0.1, 1.5]]), array([[0.1, 1.6]])]\n"
     ]
    }
   ],
   "source": [
    "y=forecast(10, X, W, b)\n",
    "print(y) # horizon x characteristics"
   ]
  },
  {
   "cell_type": "code",
   "execution_count": null,
   "id": "7f4258d5",
   "metadata": {},
   "outputs": [],
   "source": []
  },
  {
   "cell_type": "markdown",
   "id": "e2342957",
   "metadata": {},
   "source": [
    "TRAINING"
   ]
  },
  {
   "cell_type": "code",
   "execution_count": 30,
   "id": "ff2649fa",
   "metadata": {},
   "outputs": [
    {
     "name": "stdout",
     "output_type": "stream",
     "text": [
      "Prediction before:  [1.5 1.5]\n",
      "Prediction after:  [0.10000006 0.7000001 ]\n"
     ]
    }
   ],
   "source": [
    "import jax\n",
    "import jax.numpy as jnp\n",
    "\n",
    "X=jnp.array([[0.1, 0.4], [0.1, 0.5], [0.1, 0.6]]) # input example\n",
    "y=jnp.array([[0.1, 0.7]]) # expected output\n",
    "W = jnp.array([[0., 1., 0. , 1., 0., 1.],[ 0., 1., 0, 1., 0., 1.]]) # random\n",
    "b = jnp.array([[0., 1.]]) # random\n",
    "\n",
    "def forecast_1step(X,W,b):\n",
    "    # JAX does not support in-place operations like numpy, so use jax.numpy and functional updates.\n",
    "    #X = X.copy()  # Copy the input data to avoid modifying the original data\n",
    "    X_flatten = X.flatten()\n",
    "    y_next = jnp.dot(W, X_flatten) #+ b\n",
    "    return y_next\n",
    "\n",
    "def forecast(horizon, X, W, b):\n",
    "    result = []\n",
    "    \n",
    "    # Loop over 'horizon' to predict future values\n",
    "    for t in range(horizon):\n",
    "        X_flatten = X.flatten()  # Flatten the window for dot product\n",
    "        \n",
    "        # Get the next prediction\n",
    "        y_next = forecast_1step(X_flatten, W, b)\n",
    "        \n",
    "        # Update X by shifting rows and adding the new prediction in the last row\n",
    "        X = jnp.roll(X, shift=-1, axis=0)  # Shift rows to the left\n",
    "        X = X.at[-1].set(y_next)  # Update the last row with the new prediction\n",
    "        \n",
    "        # Append the prediction to results\n",
    "        result.append(y_next)\n",
    "    \n",
    "    return jnp.array(result)\n",
    "\n",
    "def forecast_1step_with_loss(params, X, y):\n",
    "    W, b = params\n",
    "    y_next=forecast_1step(X, W, b)\n",
    "    return jnp.sum((y_next-y)**2)\n",
    "\n",
    "print(\"Prediction before: \", forecast_1step(X,W,b))\n",
    "\n",
    "# Training procedure\n",
    "grad=jax.grad(forecast_1step_with_loss)\n",
    "def training_loop(grad, num_epochs, W, b, X, y):\n",
    "    for i in range(num_epochs):\n",
    "        delta=grad((W, b),X, y)\n",
    "\n",
    "        W -= 0.1*delta[0]\n",
    "        b -= 0.1*delta[1]\n",
    "    return W, b\n",
    "\n",
    "W, b=training_loop(grad, 100, W, b, X, y)\n",
    "print(\"Prediction after: \", forecast_1step(X,W,b))"
   ]
  },
  {
   "cell_type": "code",
   "execution_count": 31,
   "id": "004fee4f",
   "metadata": {},
   "outputs": [
    {
     "data": {
      "text/plain": [
       "Array([[0.10000006, 0.7000001 ],\n",
       "       [0.13750005, 0.85000026],\n",
       "       [0.16593756, 1.0162503 ],\n",
       "       [0.19483607, 1.2111567 ],\n",
       "       [0.23427574, 1.4527608 ],\n",
       "       [0.2794981 , 1.7369281 ],\n",
       "       [0.33408913, 2.0769851 ],\n",
       "       [0.40071914, 2.4861288 ],\n",
       "       [0.47889182, 2.973671  ],\n",
       "       [0.5727809 , 3.5573545 ]], dtype=float32)"
      ]
     },
     "execution_count": 31,
     "metadata": {},
     "output_type": "execute_result"
    }
   ],
   "source": [
    "forecast(10, X, W, b)"
   ]
  },
  {
   "cell_type": "markdown",
   "id": "25237293",
   "metadata": {},
   "source": [
    "Question, how to parallel the prediction ?\n",
    "* idea 1: Parallelize the linear product\n",
    "* idea 2: using many independant forecasters to create different forcast. Aggregate the predictions to compute different quantiles (e.g., the 10th, 50th, and 90th percentiles)."
   ]
  },
  {
   "cell_type": "markdown",
   "id": "86b40b4e",
   "metadata": {},
   "source": [
    "**In real applications to predict the future**\n",
    "\n",
    "==> Ensemble of Forecasters"
   ]
  },
  {
   "cell_type": "markdown",
   "id": "dc8e6f39",
   "metadata": {},
   "source": [
    "![Example Image](ensemble.png)"
   ]
  },
  {
   "cell_type": "code",
   "execution_count": 45,
   "id": "3e2e5d39",
   "metadata": {},
   "outputs": [
    {
     "name": "stdout",
     "output_type": "stream",
     "text": [
      "Prediction forcaster 0:  [[0.1024966  0.6972549 ]\n",
      " [0.13233401 0.8387149 ]\n",
      " [0.15077163 0.9999051 ]\n",
      " [0.17964125 1.1924535 ]\n",
      " [0.21549703 1.4226627 ]]\n",
      "Prediction forcaster 1:  [[0.09584314 0.7038807 ]\n",
      " [0.12316558 0.8521904 ]\n",
      " [0.14237612 1.0203512 ]\n",
      " [0.17086743 1.2288455 ]\n",
      " [0.20485432 1.4760363 ]]\n",
      "Prediction forcaster 2:  [[0.09874725 0.7060589 ]\n",
      " [0.12187524 0.85363656]\n",
      " [0.13513349 1.0246413 ]\n",
      " [0.1606953  1.2389716 ]\n",
      " [0.19014463 1.4907697 ]]\n"
     ]
    }
   ],
   "source": [
    "num_forecaster=3\n",
    "noise_std=0.1\n",
    "\n",
    "for i in range(num_forecaster):\n",
    "    \n",
    "    key = jax.random.PRNGKey(i) # `i` random see \n",
    "    W_noise = jax.random.normal(key, W.shape) * noise_std\n",
    "    b_noise = jax.random.normal(key, b.shape) * noise_std\n",
    "    \n",
    "    W_init = W+W_noise\n",
    "    b_init = b+b_noise\n",
    "    \n",
    "    W, b=training_loop(grad, 20, W_init, b_init, X, y)\n",
    "    \n",
    "    print(f\"Prediction forcaster {i}: \", forecast(5,X,W,b))\n",
    "    \n",
    "# Example of statistics: 1000 forecasters: 5th percentile, mediane, 95th"
   ]
  },
  {
   "cell_type": "markdown",
   "id": "0c1c4006",
   "metadata": {},
   "source": [
    "Many unbiased forcasters: more insigths, robust statistically\n",
    "==> Need HPC for managing independant forecasters"
   ]
  },
  {
   "cell_type": "markdown",
   "id": "81601e64",
   "metadata": {},
   "source": [
    "## Recurrent Model\n",
    "\n",
    "Key idea:\n",
    "\n",
    "In its simplest form, 3 linear combinations:\n",
    "* Processing the Current Input *U*: This transformation updates the hidden state based on the current input *x*. U=W*x+b\n",
    "* Processing the Previous Hidden State *h* (or \"memory\"): This linear transformation updates the hidden state based on the previous hidden state *h_1*. h=np.dot(Wh,h_1) + U\n",
    "* Compute the prediction: y=Wo*h+bo\n"
   ]
  },
  {
   "cell_type": "markdown",
   "id": "f7a2a2e1",
   "metadata": {},
   "source": [
    "Illustration:\n",
    "![Example Image](RNN.png)"
   ]
  },
  {
   "cell_type": "code",
   "execution_count": 34,
   "id": "d24b877a",
   "metadata": {},
   "outputs": [
    {
     "name": "stdout",
     "output_type": "stream",
     "text": [
      "Time Step 0:\n",
      "Input (x_t): [0.1 0.2]\n",
      "Current Input Contribution (U): [[0.27 0.31 0.35]]\n",
      "Updated Hidden State (h_t): [[0.27 0.31 0.35]]\n",
      "Output (y_t): [[0.864]]\n",
      "\n",
      "Time Step 1:\n",
      "Input (x_t): [0.4 0.5]\n",
      "Current Input Contribution (U): [[0.6  0.52 0.44]]\n",
      "Updated Hidden State (h_t): [[0.996 1.009 1.022]]\n",
      "Output (y_t): [[1.7082]]\n",
      "\n",
      "Time Step 2:\n",
      "Input (x_t): [0.7 0.8]\n",
      "Current Input Contribution (U): [[0.93 0.73 0.53]]\n",
      "Updated Hidden State (h_t): [[2.1486 2.2513 2.354 ]]\n",
      "Output (y_t): [[3.18102]]\n",
      "\n"
     ]
    }
   ],
   "source": [
    "import numpy as np\n",
    "\n",
    "\n",
    "\n",
    "# Example input sequence (seq_length x input_dim)\n",
    "x = np.array([\n",
    "    [0.1, 0.2],  # x_0\n",
    "    [0.4, 0.5],  # x_1\n",
    "    [0.7, 0.8]   # x_2\n",
    "])\n",
    "\n",
    "# Example weights and biases\n",
    "W_u = np.array([[0.5, 0.3, 0.1],   # Weights from input to hidden layer (input_dim x hidden_dim)\n",
    "                 [0.6, 0.4, 0.2]])  # Shape (input_dim x hidden_dim)\n",
    "\n",
    "W_h = np.array([[0.1, 0.2, 0.3],    # Weights from hidden to hidden layer (hidden_dim x hidden_dim)\n",
    "                 [0.4, 0.5, 0.6],\n",
    "                 [0.7, 0.8, 0.9]])  # Shape (hidden_dim x hidden_dim)\n",
    "\n",
    "W_o = np.array([[0.5, 0.4, 0.3]])    # Weights for output layer (output_dim x hidden_dim)\n",
    "b_o = np.array([[0.5]])               # Bias for output layer (1 x output_dim)\n",
    "b_h = np.array([[0.1, 0.2, 0.3]])     # Bias for hidden layer (1 x hidden_dim)\n",
    "\n",
    "\n",
    "# Define dimensions\n",
    "seq_length = x.shape[0]  # Length of the input sequence\n",
    "input_dim = x.shape[1]   # Dimension of input features\n",
    "hidden_dim = W_h.shape[1]  # Dimension of hidden state\n",
    "output_dim = W_o.shape[1]  # Dimension of output\n",
    "num_future_pred=5\n",
    "\n",
    "# Initialize the hidden state to zeros\n",
    "h_prev = np.zeros((1, hidden_dim))  # Shape (1, hidden_dim)\n",
    "\n",
    "# Loop through the sequence\n",
    "for t in range(seq_length):\n",
    "    \n",
    "    # step1: Processing the current input U\n",
    "    U = np.dot(x[t], W_u) + b_h  # O(input_dim*hidden_dim)\n",
    "    # U shape (1, hidden_dim)\n",
    "\n",
    "    # step2: Processing the previous hidden state h\n",
    "    h_t = np.dot(h_prev, W_h) + U  # O(input_dim*hidden_dim)\n",
    "    # h_t shape (1, hidden_dim)\n",
    "\n",
    "    # step3: Compute the prediction\n",
    "    y_t = np.dot(h_t, W_o.T) + b_o # O(hidden_dim*output_dim)  \n",
    "    # y_t shape (1, output_dim)\n",
    "\n",
    "    # Print the results for this time step\n",
    "    print(f\"Time Step {t}:\")\n",
    "    print(f\"Input (x_t): {x[t]}\")\n",
    "    print(f\"Current Input Contribution (U): {U}\")\n",
    "    print(f\"Updated Hidden State (h_t): {h_t}\")\n",
    "    print(f\"Output (y_t): {y_t}\\n\")\n",
    "\n",
    "    # Set h_prev for the next time step\n",
    "    h_prev = h_t  # Update the previous hidden state for the next iteration\n",
    "\n",
    "# O(seq_length * max( O(input_dim*hidden_dim), O(hidden_dim^2), O(hidden_dim*output_dim) ) )\n",
    "\n"
   ]
  },
  {
   "cell_type": "markdown",
   "id": "d464b258",
   "metadata": {},
   "source": [
    "## Reinforcement Learning with Q-Learning\n",
    "\n",
    "### Mono Agent Q-Learning"
   ]
  },
  {
   "cell_type": "markdown",
   "id": "5bd55ee7",
   "metadata": {},
   "source": [
    "Illustrated definition of Reinforcement Learning:\n",
    "![Example Image](rl.png)\n",
    "\n",
    "The game involves controlling a token represented by \"1\" on a 10-element array, with empty cells set to \"0\". The player moves the token one cell left or right, aiming to reach the rightmost cell, with rewards for moving closer to the goal and penalties for being too slow or reaching the leftmost cell.\n",
    "\n",
    "Formal description of the game:\n",
    "\n",
    "* State space: The state is an array of 10 elements. The possible values are 0 and 1.\n",
    "\n",
    "* Inital state (t=0): \n",
    "    * The goal is going the right. The position of `1` is randomly drawn somewhere else. Example of the state: \"[0,0,1,0,0,0,0,0,0,]\".\n",
    "\n",
    "* Observable State (or \"input state\"): \n",
    "    * Array of 10 elements. Example [0,0,1,0,0,0,0,0,0,0].\n",
    "\n",
    "* Action Space: \n",
    "    * 2 dimension vector.\n",
    "        * When action[0]>=action[1]  indicates going to the left\n",
    "        * When action[0]<action[1]  indicates going to the right\n",
    "\n",
    "* Reward:\n",
    "    * -0.1 if it is getting farther of the goal\n",
    "    * +0.1 if it is getting closer of the goal\n",
    "    * -1 if it loose the game\n",
    "    * +1 if it is winning the game\n",
    "\n",
    "* Termination criteria:\n",
    "    * Loose criteria 1: after 20 moves.\n",
    "    * Loose criteria 2: X is exiting the boundaries.\n",
    "    * Win: the current position is reaching the goal position.\n"
   ]
  },
  {
   "cell_type": "markdown",
   "id": "b0b57638",
   "metadata": {},
   "source": [
    "#### Simulator"
   ]
  },
  {
   "cell_type": "code",
   "execution_count": 33,
   "id": "28b72ea3",
   "metadata": {},
   "outputs": [],
   "source": [
    "import numpy as np\n",
    "\n",
    "class Game:\n",
    "    def __init__(self):\n",
    "        # Constants:\n",
    "        self.num_cells = 10\n",
    "        self.max_moves = 20\n",
    "        self.num_actions=2\n",
    "        \n",
    "        # init the state\n",
    "        self.current_position = 2 #np.random.randint(0, self.num_elements)\n",
    "        self.goal_position = self.num_cells-1 #np.random.randint(0, self.num_elements)\n",
    "        #while self.current_position == self.goal_position:\n",
    "        #    self.goal_position = np.random.randint(0, self.num_elements)\n",
    "        \n",
    "        # Notice: The \"observable state\" is a subset of the \"state\" \n",
    "        self.moves = 0 # number of moves to compute when it is \"draw\"\n",
    "        \n",
    "    def obervable_state(self):\n",
    "        array=np.zeros((self.num_cells,))        \n",
    "        array[self.current_position] = 1  # Position of the player\n",
    "        #array[self.goal_position] = -1    # Goal position\n",
    "        return array\n",
    "    \n",
    "    def move(self, action_id) -> tuple[float, bool]:        \n",
    "        # Update the state\n",
    "        if action_id==0:\n",
    "            self.current_position = self.current_position - 1\n",
    "        elif action_id==1:\n",
    "            self.current_position = self.current_position + 1\n",
    "        \n",
    "        \n",
    "        self.moves += 1\n",
    "        \n",
    "        # Check for terimnation criteria\n",
    "        if self.current_position < 0: # left collision -> game over\n",
    "            return -1., True\n",
    "        if self.moves > self.max_moves: # no time left -> game over\n",
    "            return -1., True\n",
    "        if self.current_position == self.goal_position: # we reach the goal -> WIN\n",
    "            return 1., True\n",
    "        \n",
    "        # Usual move\n",
    "        reward=0.1 if action_id==1 else -0.1\n",
    "        return reward, False\n",
    "        "
   ]
  },
  {
   "cell_type": "markdown",
   "id": "4826db65",
   "metadata": {},
   "source": [
    "#### Random strategy"
   ]
  },
  {
   "cell_type": "code",
   "execution_count": 34,
   "id": "70f37eea",
   "metadata": {},
   "outputs": [
    {
     "name": "stdout",
     "output_type": "stream",
     "text": [
      "Reward:  0 finished:  False  #moves:  0  state:  [0. 0. 1. 0. 0. 0. 0. 0. 0. 0.]\n",
      "Reward:  -0.1 finished:  False  #moves:  1  state:  [0. 1. 0. 0. 0. 0. 0. 0. 0. 0.]\n",
      "Reward:  -0.1 finished:  False  #moves:  2  state:  [1. 0. 0. 0. 0. 0. 0. 0. 0. 0.]\n",
      "Reward:  -1.0 finished:  True  #moves:  3  state:  [0. 0. 0. 0. 0. 0. 0. 0. 0. 1.]\n"
     ]
    }
   ],
   "source": [
    "game = Game()\n",
    "finished=False\n",
    "reward=0\n",
    "print(\"Reward: \", reward, \"finished: \", finished, \" #moves: \", game.moves, \" state: \", game.obervable_state())\n",
    "while not finished:\n",
    "    action_id = np.random.randint(2) # <-- random behaviour\n",
    "    reward, finished = game.move(action_id)\n",
    "    print(\"Reward: \", reward, \"finished: \", finished, \" #moves: \", game.moves, \" state: \", game.obervable_state())"
   ]
  },
  {
   "cell_type": "markdown",
   "id": "e3e200e7",
   "metadata": {},
   "source": [
    "#### Q-Learning inference mode"
   ]
  },
  {
   "cell_type": "code",
   "execution_count": 36,
   "id": "e78cd4d2",
   "metadata": {},
   "outputs": [
    {
     "name": "stdout",
     "output_type": "stream",
     "text": [
      "Reward:  0 finished:  False  #moves:  0  state:  [0. 0. 1. 0. 0. 0. 0. 0. 0. 0.]\n",
      "pred_action:  [0. 1.] state: [0. 0. 1. 0. 0. 0. 0. 0. 0. 0.]  action_id: 1\n",
      "Reward:  0.1 finished:  False  #moves:  1  state:  [0. 0. 0. 1. 0. 0. 0. 0. 0. 0.]\n",
      "pred_action:  [0. 1.] state: [0. 0. 0. 1. 0. 0. 0. 0. 0. 0.]  action_id: 1\n",
      "Reward:  0.1 finished:  False  #moves:  2  state:  [0. 0. 0. 0. 1. 0. 0. 0. 0. 0.]\n",
      "pred_action:  [0. 1.] state: [0. 0. 0. 0. 1. 0. 0. 0. 0. 0.]  action_id: 1\n",
      "Reward:  0.1 finished:  False  #moves:  3  state:  [0. 0. 0. 0. 0. 1. 0. 0. 0. 0.]\n",
      "pred_action:  [0. 1.] state: [0. 0. 0. 0. 0. 1. 0. 0. 0. 0.]  action_id: 1\n",
      "Reward:  0.1 finished:  False  #moves:  4  state:  [0. 0. 0. 0. 0. 0. 1. 0. 0. 0.]\n",
      "pred_action:  [0. 1.] state: [0. 0. 0. 0. 0. 0. 1. 0. 0. 0.]  action_id: 1\n",
      "Reward:  0.1 finished:  False  #moves:  5  state:  [0. 0. 0. 0. 0. 0. 0. 1. 0. 0.]\n",
      "pred_action:  [0. 1.] state: [0. 0. 0. 0. 0. 0. 0. 1. 0. 0.]  action_id: 1\n",
      "Reward:  0.1 finished:  False  #moves:  6  state:  [0. 0. 0. 0. 0. 0. 0. 0. 1. 0.]\n",
      "pred_action:  [0. 1.] state: [0. 0. 0. 0. 0. 0. 0. 0. 1. 0.]  action_id: 1\n",
      "Reward:  1.0 finished:  True  #moves:  7  state:  [0. 0. 0. 0. 0. 0. 0. 0. 0. 1.]\n"
     ]
    }
   ],
   "source": [
    "# Parameters\n",
    "alpha = 0.1      # Learning rate\n",
    "gamma = 0.9      # Discount factor\n",
    "epsilon = 0.05     # Exploration rate\n",
    "\n",
    "# Initialize the Q-table\n",
    "# Q = np.zeros((state_space, num_actions))\n",
    "# ==> Q value can also be a bigger neural network but the goal is also mapping state->action\n",
    "Q = np.array([[1, 0], # <--- action 'left' when to the 0th position \n",
    "              [0, 1], # <--- action 'right' when to the 1th position \n",
    "              [0, 1], \n",
    "              [0, 1], \n",
    "              [0, 1], \n",
    "              [0, 1], \n",
    "              [0, 1], \n",
    "              [0, 1], \n",
    "              [0, 1], \n",
    "              [0, 1]])\n",
    "\n",
    "game = Game()\n",
    "finished=False\n",
    "reward=0\n",
    "print(\"Reward: \", reward, \"finished: \", finished, \" #moves: \", game.moves, \" state: \", game.obervable_state())\n",
    "while not finished:\n",
    "    state = game.obervable_state() # observable state vector\n",
    "    pred_action = np.dot(state, Q)\n",
    "    \n",
    "    action_id = np.argmax(pred_action)\n",
    "    \n",
    "    print(\"pred_action: \", pred_action, \"state:\", state,\" action_id:\", action_id)\n",
    "    reward, finished = game.move(action_id)\n",
    "\n",
    "    print(\"Reward: \", reward, \"finished: \", finished, \" #moves: \", game.moves, \" state: \", game.obervable_state())\n",
    "    \n",
    "# Inference complexity:\n",
    "# O(game.max_moves * (game.num_cells * num_actions))"
   ]
  },
  {
   "cell_type": "markdown",
   "id": "0c8f3361",
   "metadata": {},
   "source": [
    "#### Q-Learning training\n",
    "\n",
    "\n",
    "The goal is to fit \"Q\" based on multiple game episodes.\n",
    "\n",
    "Some concepts for learning:\n",
    "\n",
    "* Compute **TD Target**: Uses Temporal Difference (TD) to estimate future reward: by combining the immediate reward + the maximum expected future reward.\n",
    "* Update **delta**: Adjusts \"Q\" based on the difference between the predicted value and the TD target, improving policy for future episodes.\n",
    "* **Epsilon-Greedy**: Balances exploration (random actions) and exploitation (choosing best-known action) to avoid getting stuck in suboptimal strategy.\n",
    "\n",
    "Illustration of exploration/exploitation dilemma:\n",
    "\n",
    "<img src=\"explo.png\" alt=\"Example Image\" style=\"width: 50%;\">"
   ]
  },
  {
   "cell_type": "code",
   "execution_count": null,
   "id": "5e07c527",
   "metadata": {},
   "outputs": [],
   "source": [
    "# Parameters\n",
    "num_episodes = 100\n",
    "lr = 0.1         # Learning rate\n",
    "gamma = 0.1      # Discount factor. A value closer to 1 means that future rewards are highly valued, while a value closer to 0 means that immediate rewards are prioritized.\n",
    "epsilon = 0.2   # Exploration rate\n",
    "\n",
    "# Initialize the Q-table\n",
    "# Q = np.zeros((state_space, num_actions))\n",
    "# ==> Q value can also be a bigger neural network but the goal is also mapping state->action\n",
    "Q = np.array([[1, 0], # <--- action 'left' when to the 0th position \n",
    "              [1, 0], # <--- action 'right' when to the 1th position \n",
    "              [1, 0], \n",
    "              [1, 0], \n",
    "              [1, 0], \n",
    "              [1, 0], \n",
    "              [1, 0], \n",
    "              [1, 0], \n",
    "              [1, 0], \n",
    "              [1, 0]], dtype=np.float32)\n",
    "\n",
    "for episode in range(num_episodes):\n",
    "    game = Game()\n",
    "    finished=False\n",
    "    reward=0\n",
    "    while not finished:\n",
    "        state = game.obervable_state() # observable state vector\n",
    "        \n",
    "        \n",
    "        # Epsilon-greedy action selection\n",
    "        if np.random.rand() < epsilon:\n",
    "            # Exploration: choose a random action\n",
    "            pred_action = np.random.uniform(-1., 1, (game.num_actions))\n",
    "        else:\n",
    "            # Exploitation: choose the best action based on Q-values\n",
    "            pred_action = np.dot(state, Q)  # Predict Q-values for the current state\n",
    "        \n",
    "        action_id = np.argmax(pred_action)  # Choose action with the highest Q-value\n",
    "        \n",
    "        \n",
    "        reward, finished = game.move(action_id)\n",
    "        \n",
    "        # Update the Q-value using Temporal Difference.\n",
    "        # TD target combines:\n",
    "        # ==> the immediate reward `reward`\n",
    "        # ==> the expected future rewards `np.max(pred_action)`. We use the best possible future reward because it encourages the agent to learn the optimal policy.\n",
    "        td_target = reward + gamma *  np.max(pred_action)\n",
    "\n",
    "        # Update the weights for the action taken\n",
    "        delta = lr * (td_target - np.dot(state, Q[:, action_id])) * state\n",
    "        \n",
    "        Q[:, int(action_id)] += delta  # Linear update rule\n",
    "\n",
    "        \n",
    "#  Training complexity:\n",
    "# O(num_episodes * game.max_moves * (game.num_cells * num_actions))\n",
    "\n",
    "print(\"Q: \")\n",
    "print(Q)\n",
    "print(\"Last reward: \")\n",
    "print(reward)"
   ]
  },
  {
   "cell_type": "markdown",
   "id": "63241ad2",
   "metadata": {},
   "source": [
    "### Multi Agent Q-Learning\n"
   ]
  },
  {
   "cell_type": "markdown",
   "id": "c860cde7",
   "metadata": {},
   "source": [
    "The problem solve is simple but generalize to more complex simulation.\n",
    "* The model will generalize when we have \"traps\" thanks to epsilon greedy.\n",
    "* The model will not sacrifice short term rewards for local reward, thanks to TD_difference and gamma parameters.\n",
    "\n",
    "Question: Generally speaking how to parallel the training ?\n",
    "* Different training loops with different initialization ==> then synchronize Q regularly\n",
    "* If Q is hudge neural network ==> Splitting matrix computation\n",
    "\n",
    "\n",
    "On some applications, MARL allows to distribute the inference.\n",
    "\n",
    "Illustration of Multi-Agent Reinforcement Learning:\n",
    "<img src=\"marl.jpg\" alt=\"Example Image\" style=\"width: 50%;\">\n",
    "\n",
    "Example of Multi-Agent Reinforcement Learning environment:\n",
    "\n",
    "Illustration with 2 agents (green and blue).\n",
    "<table align=\"center\">\n",
    "<tr>\n",
    "<td>Efficient Case</td>\n",
    "<td>Reduncant Case</td>\n",
    "<td>Unsuccessful Case</td>\n",
    "</tr>\n",
    "<tr>\n",
    "<td><img src=\"https://user-images.githubusercontent.com/47055092/142976224-7ed678fe-4270-4576-ab9a-fb7f0054729e.gif\"></td>\n",
    "<td><img src=\"https://user-images.githubusercontent.com/47055092/142976291-ccb563f6-cf50-456a-ba41-ee71dfb68999.gif\"></td>\n",
    "<td><img src=\"https://user-images.githubusercontent.com/47055092/142979550-21985f8f-a8f6-46c1-9941-604d4953be32.gif\"></td>\n",
    "</tr>\n",
    "</table>\n",
    "Animation from: https://github.com/mnmldb/autonomous-drone-swarm/tree/main\n",
    "\n",
    "The MARL learns automatically a strategy:\n",
    "\n",
    "* Who is doing what ?\n",
    "* Collision avoidance between agents"
   ]
  },
  {
   "cell_type": "code",
   "execution_count": 1,
   "id": "466e37aa",
   "metadata": {},
   "outputs": [],
   "source": [
    "import numpy as np\n",
    "\n",
    "class Game:\n",
    "    def __init__(self, N=5, D=2, num_agents=2, max_steps=100):\n",
    "        self.N = N  # Grid size (NxN)\n",
    "        self.D = D  # Visibility radius\n",
    "        self.num_agents=num_agents\n",
    "        self.num_actions=4\n",
    "        self.max_steps = max_steps  # Max number of steps before game ends\n",
    "        self.board = np.ones((N, N),dtype=np.int32) * -2  # -2 means all cells are dirty at the beginning\n",
    "        \n",
    "        \n",
    "        self.robot_pos = np.array([[0,0],[N-1,N-1]]) #TODO: should be adapted with `nnum_agents`\n",
    "        \n",
    "        \n",
    "        self.board[0, 0] = 0  # Mark Robot1's starting position\n",
    "        self.board[N-1, N-1] = 1  # Mark Robot2's starting position\n",
    "        \n",
    "        self.steps = 0  # Count the number of steps taken\n",
    "        self.cleaned_cells = 0  # Count how many cells are cleaned\n",
    "    \n",
    "    def observable_state(self, robot_id):\n",
    "        \"\"\"Return the visible cells within the robot's D radius as a flattened vector.\"\"\"\n",
    "        r, c = self.robot_pos[robot_id]\n",
    "        s=[]\n",
    "        for i in range(r-self.D, r+self.D+1):\n",
    "            for j in range(c-self.D, c+self.D+1):\n",
    "                if 0<=i<self.N and 0<=j<self.N:\n",
    "                    s.append(self.board[i,j])\n",
    "                else:\n",
    "                    s.append(-1)\n",
    "        return np.array(s)\n",
    "    \n",
    "    def move(self, robot_id, action_id):\n",
    "        \"\"\"Move the robot based on action_id and update the game state.\"\"\"\n",
    "        pos = self.robot_pos[robot_id]\n",
    "        \n",
    "        # Action space: 0 = left, 1 = down, 2 = right, 3 = up\n",
    "        new_pos = pos.copy()\n",
    "        if action_id == 0:  # left\n",
    "            new_pos[1] -= 1\n",
    "        elif action_id == 1:  # down\n",
    "            new_pos[0] += 1\n",
    "        elif action_id == 2:  # right\n",
    "            new_pos[1] += 1\n",
    "        elif action_id == 3:  # up\n",
    "            new_pos[0] -= 1\n",
    "        \n",
    "        \n",
    "        # Boundary check: stay in bounds\n",
    "        if 0 <= new_pos[0] < self.N and 0 <= new_pos[1] < self.N:\n",
    "            element=self.board[new_pos[0], new_pos[1]] \n",
    "            if element >= 0:  # Check for collision\n",
    "                return -0.5, True  # Collision penalty and game over\n",
    "            \n",
    "            \n",
    "            # Move robot\n",
    "            self.board[pos[0], pos[1]] = -1  # Clear old position\n",
    "            self.robot_pos[robot_id] = new_pos\n",
    "            self.board[new_pos[0], new_pos[1]] = robot_id  # Mark new position\n",
    "\n",
    "\n",
    "            # Check cleaning\n",
    "            if element == -2:  # Dirty cell cleaned\n",
    "                self.cleaned_cells += 1\n",
    "                reward = 0.1\n",
    "            else:  # Clean cell already\n",
    "                reward = -0.1\n",
    "        else:\n",
    "            # collide with walls\n",
    "            return -1., True\n",
    "            #new_pos[0]=min(max(new_pos[0],0),N-1)\n",
    "            #new_pos[1]=min(max(new_pos[1],0),N-1)\n",
    "            #reward = -0.05\n",
    "\n",
    "        # Update step count and check if game is over\n",
    "        self.steps += 1\n",
    "        if self.steps >= self.max_steps:\n",
    "            return -1., True  # Timeout penalty, game over\n",
    "        if self.cleaned_cells == self.N * self.N - self.num_agents:  # All cells cleaned, win\n",
    "            return 1., True\n",
    "        \n",
    "        return reward, False  # Game continues"
   ]
  },
  {
   "cell_type": "code",
   "execution_count": 2,
   "id": "bb11af2d",
   "metadata": {},
   "outputs": [
    {
     "name": "stdout",
     "output_type": "stream",
     "text": [
      "Initialization of the game: \n",
      "[[ 0 -2 -2 -2 -2]\n",
      " [-2 -2 -2 -2 -2]\n",
      " [-2 -2 -2 -2 -2]\n",
      " [-2 -2 -2 -2 -2]\n",
      " [-2 -2 -2 -2  1]]\n",
      "After Robot0 goes down (action: 1) and Robot1 goes up (action: 3)\n",
      "[[-1 -2 -2 -2 -2]\n",
      " [ 0 -2 -2 -2 -2]\n",
      " [-2 -2 -2 -2 -2]\n",
      " [-2 -2 -2 -2  1]\n",
      " [-2 -2 -2 -2 -1]]\n",
      "reward:  0.2  finished:  False\n",
      "Robot 0 current vision:  [-1 -1 -1 -1 -1 -1 -1 -1 -2 -2 -1 -1  0 -2 -2 -1 -1 -2 -2 -2 -1 -1 -2 -2\n",
      " -2]\n",
      "Robot 0 current vision:  [-2 -2 -2 -1 -1 -2 -2 -2 -1 -1 -2 -2  1 -1 -1 -2 -2 -1 -1 -1 -1 -1 -1 -1\n",
      " -1]\n"
     ]
    }
   ],
   "source": [
    "g=Game()\n",
    "print(\"Initialization of the game: \")\n",
    "print(g.board)\n",
    "\n",
    "\n",
    "# The MAS is acting\n",
    "r0,f0 = g.move(0, 1) # \"Robot0\" move down \n",
    "r1,f1 = g.move(1, 3) # \"Robot1\" move up \n",
    "reward = r0 + r1\n",
    "finished = f0 or f1\n",
    "\n",
    "print(\"After Robot0 goes down (action: 1) and Robot1 goes up (action: 3)\")\n",
    "print(g.board)\n",
    "print(\"reward: \", reward, \" finished: \", finished)\n",
    "\n",
    "print(\"Robot 0 current vision: \", g.observable_state(0))\n",
    "print(\"Robot 0 current vision: \", g.observable_state(1))"
   ]
  },
  {
   "cell_type": "code",
   "execution_count": 8,
   "id": "aa7a1f49",
   "metadata": {},
   "outputs": [
    {
     "name": "stdout",
     "output_type": "stream",
     "text": [
      "-0.9\n",
      "0.2\n",
      "0.7999999999999999\n",
      "1.2\n",
      "1.2\n",
      "1.2\n",
      "1.2\n",
      "1.2\n",
      "1.2\n",
      "1.4000000000000001\n"
     ]
    }
   ],
   "source": [
    "# Parameters\n",
    "num_episodes = 1000\n",
    "num_agents=2\n",
    "lr = 0.0001                 # Learning rate\n",
    "gamma = 0.5               # Discount factor\n",
    "epsilon = 0.1            # Exploration rate\n",
    "\n",
    "np.random.seed(1)\n",
    "Q = np.random.uniform(-0.1, 0.1, (25, 4))\n",
    "\n",
    "max_cumul_reward=-1000\n",
    "for episode in range(num_episodes):\n",
    "    game = Game()\n",
    "    finished=False\n",
    "    cumul_reward=0\n",
    "    \n",
    "    while not finished:        \n",
    "        for agent_id in range(num_agents): # <---- >>>>> just introducing this loop in MARL <<<<<<<<<\n",
    "            \n",
    "            state = game.observable_state(agent_id) # observable state vector\n",
    "            if np.random.rand() < epsilon:\n",
    "                pred_action = np.random.uniform(-1., 1, (game.num_actions))\n",
    "            else:\n",
    "                pred_action = np.dot(state, Q)  # Predict Q-values for the current state\n",
    "            action_id = np.argmax(pred_action)  # Choose action with the highest Q-value\n",
    "            reward, local_finished = game.move(agent_id, action_id)\n",
    "            \n",
    "            finished = finished or local_finished\n",
    "        \n",
    "            # Update the Q-value using Temporal Difference.\n",
    "            # TD target combines:\n",
    "            # ==> the immediate reward `reward`\n",
    "            # ==> the expected future rewards `np.max(pred_action)`. We use the best possible future reward because it encourages the agent to learn the optimal policy.\n",
    "            td_target = reward + gamma *  np.max(pred_action)\n",
    "\n",
    "            # Update the weights for the action taken\n",
    "            delta = lr * (td_target - np.dot(state, Q[:, action_id])) * state\n",
    "            Q[:, int(action_id)] += delta  # Linear update rule\n",
    "            \n",
    "            cumul_reward+=reward\n",
    "        # when finished:    \n",
    "        max_cumul_reward=max(cumul_reward,max_cumul_reward) # for monitoring only\n",
    "    if episode%(num_episodes//10)==0:\n",
    "        print(max_cumul_reward)"
   ]
  },
  {
   "cell_type": "code",
   "execution_count": null,
   "id": "344ce7e9",
   "metadata": {},
   "outputs": [],
   "source": []
  },
  {
   "cell_type": "code",
   "execution_count": null,
   "id": "d137d6c2",
   "metadata": {},
   "outputs": [],
   "source": []
  }
 ],
 "metadata": {
  "kernelspec": {
   "display_name": "Python 3 (ipykernel)",
   "language": "python",
   "name": "python3"
  },
  "language_info": {
   "codemirror_mode": {
    "name": "ipython",
    "version": 3
   },
   "file_extension": ".py",
   "mimetype": "text/x-python",
   "name": "python",
   "nbconvert_exporter": "python",
   "pygments_lexer": "ipython3",
   "version": "3.10.9"
  }
 },
 "nbformat": 4,
 "nbformat_minor": 5
}
